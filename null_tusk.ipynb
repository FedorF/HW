{
 "cells": [
  {
   "cell_type": "code",
   "execution_count": 1,
   "metadata": {
    "collapsed": false
   },
   "outputs": [
    {
     "name": "stdout",
     "output_type": "stream",
     "text": [
      "hello world\n"
     ]
    }
   ],
   "source": [
    "print(\"hello world\")"
   ]
  },
  {
   "cell_type": "code",
   "execution_count": 5,
   "metadata": {
    "collapsed": false
   },
   "outputs": [
    {
     "data": {
      "text/plain": [
       "610"
      ]
     },
     "execution_count": 5,
     "metadata": {},
     "output_type": "execute_result"
    }
   ],
   "source": [
    "fib = lambda x: x if (x < 2) else fib(x - 2) + fib(x - 1)\n",
    "fib(15)"
   ]
  },
  {
   "cell_type": "code",
   "execution_count": 31,
   "metadata": {
    "collapsed": false
   },
   "outputs": [
    {
     "data": {
      "text/plain": [
       "[-83, -20, 3, 4, 5, 5, 12, 22, 43]"
      ]
     },
     "execution_count": 31,
     "metadata": {},
     "output_type": "execute_result"
    }
   ],
   "source": [
    "def qsort(a):\n",
    "    left = []\n",
    "    right = []\n",
    "    if (len(a) > 1):\n",
    "        for element in a[1:]:\n",
    "            if (element < a[0]):\n",
    "                left.append(element)\n",
    "            else:\n",
    "                right.append(element)\n",
    "        return qsort(left) + [a[0]] + qsort(right)\n",
    "    else: \n",
    "        return a\n",
    "a = [4, 5, 3, -20, -83, 22, 43 , 12, 5]\n",
    "qsort(a)\n",
    "                \n",
    "            \n",
    "            \n",
    "    "
   ]
  },
  {
   "cell_type": "code",
   "execution_count": 17,
   "metadata": {
    "collapsed": false
   },
   "outputs": [
    {
     "name": "stdout",
     "output_type": "stream",
     "text": [
      "Wall time: 1 ms\n"
     ]
    }
   ],
   "source": [
    "%%time\n",
    "def f(x):\n",
    "    if x < 2:\n",
    "        return x\n",
    "    else:\n",
    "        return f(x - 2) + f(x - 1)\n",
    "f(15)"
   ]
  },
  {
   "cell_type": "code",
   "execution_count": 16,
   "metadata": {
    "collapsed": false
   },
   "outputs": [
    {
     "name": "stdout",
     "output_type": "stream",
     "text": [
      "Wall time: 1e+03 µs\n"
     ]
    }
   ],
   "source": [
    "%%time\n",
    "def fib(x):\n",
    "    cash = {}\n",
    "    if x < 2:\n",
    "        return x\n",
    "    if x in cash:\n",
    "        return fib(x)\n",
    "    else:\n",
    "        cash[x] = fib(x - 2) + fib(x - 1)\n",
    "        return cash[x]\n",
    "    \n",
    "fib(15)\n"
   ]
  },
  {
   "cell_type": "code",
   "execution_count": 21,
   "metadata": {
    "collapsed": false
   },
   "outputs": [
    {
     "data": {
      "text/plain": [
       "[-83, -20, -3, 3, 4, 5, 5, 12, 43]"
      ]
     },
     "execution_count": 21,
     "metadata": {},
     "output_type": "execute_result"
    }
   ],
   "source": [
    "qsort = lambda a: a if len(a) <= 1 else qsort([x for x in a[1:] if x <= a[0]]) + [a[0]] + qsort([x for x in a[1:] if x > a[0]])\n",
    "a = [4, 5, 3, -20, -83, -3, 43 , 12, 5]\n",
    "qsort(a)"
   ]
  },
  {
   "cell_type": "code",
   "execution_count": null,
   "metadata": {
    "collapsed": true
   },
   "outputs": [],
   "source": []
  }
 ],
 "metadata": {
  "anaconda-cloud": {},
  "kernelspec": {
   "display_name": "Python [default]",
   "language": "python",
   "name": "python2"
  },
  "language_info": {
   "codemirror_mode": {
    "name": "ipython",
    "version": 2
   },
   "file_extension": ".py",
   "mimetype": "text/x-python",
   "name": "python",
   "nbconvert_exporter": "python",
   "pygments_lexer": "ipython2",
   "version": "2.7.12"
  }
 },
 "nbformat": 4,
 "nbformat_minor": 1
}
